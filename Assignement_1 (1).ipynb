{
 "cells": [
  {
   "cell_type": "code",
   "execution_count": 17,
   "id": "c0852f7f-f894-4508-944c-9715df822f0a",
   "metadata": {},
   "outputs": [],
   "source": [
    "#Q1. Create one variable containing following type of data:\n",
    "#(i) string\n",
    "#(ii) list\n",
    "#(iii) float\n",
    "#(iv) tuple\n",
    "#Question-1\n",
    "#ans-"
   ]
  },
  {
   "cell_type": "code",
   "execution_count": 1,
   "id": "d80d8c79-3789-44f6-9934-fcbd3fabbefb",
   "metadata": {},
   "outputs": [
    {
     "data": {
      "text/plain": [
       "'rohit'"
      ]
     },
     "execution_count": 1,
     "metadata": {},
     "output_type": "execute_result"
    }
   ],
   "source": [
    "a1=('rohit')\n",
    "a1"
   ]
  },
  {
   "cell_type": "code",
   "execution_count": 2,
   "id": "befc122a-3431-42a1-9ac6-7d69a3bfe33a",
   "metadata": {},
   "outputs": [
    {
     "data": {
      "text/plain": [
       "str"
      ]
     },
     "execution_count": 2,
     "metadata": {},
     "output_type": "execute_result"
    }
   ],
   "source": [
    "type(a1)"
   ]
  },
  {
   "cell_type": "code",
   "execution_count": 3,
   "id": "a1638006-424f-43d2-8473-c90174ab9c07",
   "metadata": {},
   "outputs": [
    {
     "data": {
      "text/plain": [
       "['rohit', 'chauhan', 1, 2, 3, 45.45]"
      ]
     },
     "execution_count": 3,
     "metadata": {},
     "output_type": "execute_result"
    }
   ],
   "source": [
    "a2=[\"rohit\",\"chauhan\",1,2,3,45.45]\n",
    "a2"
   ]
  },
  {
   "cell_type": "code",
   "execution_count": 4,
   "id": "88b1b349-4021-4e9a-977d-be801e2d8724",
   "metadata": {},
   "outputs": [
    {
     "data": {
      "text/plain": [
       "list"
      ]
     },
     "execution_count": 4,
     "metadata": {},
     "output_type": "execute_result"
    }
   ],
   "source": [
    "type(a2)"
   ]
  },
  {
   "cell_type": "code",
   "execution_count": 5,
   "id": "2f5c47e4-0e1a-4c4a-be52-831323a3cb6b",
   "metadata": {},
   "outputs": [
    {
     "data": {
      "text/plain": [
       "float"
      ]
     },
     "execution_count": 5,
     "metadata": {},
     "output_type": "execute_result"
    }
   ],
   "source": [
    "a3=456.45\n",
    "type(a3)"
   ]
  },
  {
   "cell_type": "code",
   "execution_count": 6,
   "id": "185d1116-3fc0-43cf-b4f5-01b6e560863f",
   "metadata": {},
   "outputs": [
    {
     "data": {
      "text/plain": [
       "tuple"
      ]
     },
     "execution_count": 6,
     "metadata": {},
     "output_type": "execute_result"
    }
   ],
   "source": [
    "a4=(\"rohit\",\"chauhan\",\"rahul\")\n",
    "type(a4)"
   ]
  },
  {
   "cell_type": "code",
   "execution_count": 7,
   "id": "c868e7fa-93e0-457b-b440-9e7719c0f889",
   "metadata": {},
   "outputs": [
    {
     "data": {
      "text/plain": [
       "''"
      ]
     },
     "execution_count": 7,
     "metadata": {},
     "output_type": "execute_result"
    }
   ],
   "source": [
    "# Qestion-2:\n",
    "# Ans_\n",
    "var1=''\n",
    "var1\n"
   ]
  },
  {
   "cell_type": "code",
   "execution_count": 8,
   "id": "4ee0a03d-d945-45a0-b9d3-70932df47d92",
   "metadata": {},
   "outputs": [
    {
     "data": {
      "text/plain": [
       "'[DS,ML,PYTHON]'"
      ]
     },
     "execution_count": 8,
     "metadata": {},
     "output_type": "execute_result"
    }
   ],
   "source": [
    "var2='[DS,ML,PYTHON]'\n",
    "var2"
   ]
  },
  {
   "cell_type": "code",
   "execution_count": 9,
   "id": "c204b503-2efd-491f-b6d7-39cd99c7128c",
   "metadata": {},
   "outputs": [
    {
     "data": {
      "text/plain": [
       "['DS', 'ML', 'PYTHON']"
      ]
     },
     "execution_count": 9,
     "metadata": {},
     "output_type": "execute_result"
    }
   ],
   "source": [
    "var3=['DS','ML','PYTHON']\n",
    "var3"
   ]
  },
  {
   "cell_type": "code",
   "execution_count": 10,
   "id": "dcf98780-3c9c-4bf9-9083-08301a52033a",
   "metadata": {},
   "outputs": [
    {
     "data": {
      "text/plain": [
       "1.0"
      ]
     },
     "execution_count": 10,
     "metadata": {},
     "output_type": "execute_result"
    }
   ],
   "source": [
    "var4=1.\n",
    "var4"
   ]
  },
  {
   "cell_type": "code",
   "execution_count": 11,
   "id": "f455668a-9ca4-406f-a918-7e77ac7d95dc",
   "metadata": {},
   "outputs": [],
   "source": [
    "# What will be the data type of the above given variable.\n",
    "# Answer- all answer of question 2 are given above"
   ]
  },
  {
   "cell_type": "code",
   "execution_count": 12,
   "id": "e921dac3-5e58-4f16-8680-99137467f7e3",
   "metadata": {},
   "outputs": [],
   "source": [
    "#Q3. Explain the use of the following operators using an example:\n",
    "#(i) /\n",
    "#(ii) %\n",
    "#(iii) //\n",
    "#(iv) **"
   ]
  },
  {
   "cell_type": "code",
   "execution_count": 13,
   "id": "6ad8e0b1-e49e-4e70-9bc6-4246f94aed20",
   "metadata": {},
   "outputs": [
    {
     "data": {
      "text/plain": [
       "9.0"
      ]
     },
     "execution_count": 13,
     "metadata": {},
     "output_type": "execute_result"
    }
   ],
   "source": [
    "a=45/5 # \"/\" is for devision with the floating value\n",
    "a"
   ]
  },
  {
   "cell_type": "code",
   "execution_count": 14,
   "id": "34c70980-b912-4bf7-9a9d-47ab6f3f331c",
   "metadata": {},
   "outputs": [
    {
     "data": {
      "text/plain": [
       "0"
      ]
     },
     "execution_count": 14,
     "metadata": {},
     "output_type": "execute_result"
    }
   ],
   "source": [
    "a=45%5 # \"%\" operstor are used for determine  the reminder \n",
    "a"
   ]
  },
  {
   "cell_type": "code",
   "execution_count": 15,
   "id": "b0ab6040-2e59-4bec-aa4c-888d812de280",
   "metadata": {},
   "outputs": [
    {
     "data": {
      "text/plain": [
       "9"
      ]
     },
     "execution_count": 15,
     "metadata": {},
     "output_type": "execute_result"
    }
   ],
   "source": [
    "a=45//5 # \"//\" operator is for devision without floating value\n",
    "a"
   ]
  },
  {
   "cell_type": "code",
   "execution_count": 16,
   "id": "cee7f071-5a43-455c-b6f0-bba110a5a23f",
   "metadata": {},
   "outputs": [
    {
     "data": {
      "text/plain": [
       "184528125"
      ]
     },
     "execution_count": 16,
     "metadata": {},
     "output_type": "execute_result"
    }
   ],
   "source": [
    "a=45**5  # \"**\" operator are use for squaring a number\n",
    "a"
   ]
  },
  {
   "cell_type": "code",
   "execution_count": 17,
   "id": "5199d0b0-c1f7-4db7-aa30-1718e5d72e4e",
   "metadata": {},
   "outputs": [
    {
     "data": {
      "text/plain": [
       "'Q4. Create a list of length 10 of your choice containing multiple types of data. Using for loop print the\\nelement and its data type.'"
      ]
     },
     "execution_count": 17,
     "metadata": {},
     "output_type": "execute_result"
    }
   ],
   "source": [
    "\"\"\"Q4. Create a list of length 10 of your choice containing multiple types of data. Using for loop print the\n",
    "element and its data type.\"\"\""
   ]
  },
  {
   "cell_type": "code",
   "execution_count": 18,
   "id": "31be8149-9ef2-48b1-af8a-8b99091dfa1a",
   "metadata": {},
   "outputs": [
    {
     "name": "stdout",
     "output_type": "stream",
     "text": [
      "1\n",
      "2\n",
      "3\n",
      "4\n",
      "5\n",
      "abc\n",
      "45.45\n",
      "rohit\n",
      "45\n",
      "68\n"
     ]
    }
   ],
   "source": [
    "l1=[1,2,3,4,5,\"abc\",45.45,\"rohit\",45,68]\n",
    "for i in l1:\n",
    "    print(i)\n",
    "    "
   ]
  },
  {
   "cell_type": "code",
   "execution_count": 19,
   "id": "9da59163-fd55-42da-9aec-8f263930d5d7",
   "metadata": {},
   "outputs": [
    {
     "data": {
      "text/plain": [
       "list"
      ]
     },
     "execution_count": 19,
     "metadata": {},
     "output_type": "execute_result"
    }
   ],
   "source": [
    "type(l1)"
   ]
  },
  {
   "cell_type": "code",
   "execution_count": 20,
   "id": "fd01a956-04de-4e42-854a-fe6e0bdc1878",
   "metadata": {},
   "outputs": [
    {
     "name": "stdout",
     "output_type": "stream",
     "text": [
      "1\n",
      "2\n",
      "3\n",
      "4\n",
      "5\n",
      "abc\n",
      "45.45\n",
      "rohit\n",
      "45\n",
      "68\n"
     ]
    }
   ],
   "source": [
    "l2=[]\n",
    "l3=[]\n",
    "for i in l1:\n",
    "    print(i)\n",
    "    if type(i)==int or type(i)==float:\n",
    "        l2.append(i)\n",
    "    else:\n",
    "         l3.append(i)\n",
    "   \n",
    "\n"
   ]
  },
  {
   "cell_type": "code",
   "execution_count": 21,
   "id": "f3e38c3d-3b91-4f59-9909-894ffe9cb2c9",
   "metadata": {},
   "outputs": [
    {
     "data": {
      "text/plain": [
       "[1, 2, 3, 4, 5, 45.45, 45, 68]"
      ]
     },
     "execution_count": 21,
     "metadata": {},
     "output_type": "execute_result"
    }
   ],
   "source": [
    "l2"
   ]
  },
  {
   "cell_type": "code",
   "execution_count": 22,
   "id": "94f39b9a-620e-4a43-b9cd-0164a7d1813a",
   "metadata": {},
   "outputs": [
    {
     "data": {
      "text/plain": [
       "['abc', 'rohit']"
      ]
     },
     "execution_count": 22,
     "metadata": {},
     "output_type": "execute_result"
    }
   ],
   "source": [
    "l3"
   ]
  },
  {
   "cell_type": "code",
   "execution_count": 23,
   "id": "d924c63a-dcc2-4bb4-965d-8db28359345d",
   "metadata": {},
   "outputs": [
    {
     "data": {
      "text/plain": [
       "list"
      ]
     },
     "execution_count": 23,
     "metadata": {},
     "output_type": "execute_result"
    }
   ],
   "source": [
    "type(l2)"
   ]
  },
  {
   "cell_type": "code",
   "execution_count": 24,
   "id": "201630c0-2dd0-44ab-9d9c-7dcc6e047aa1",
   "metadata": {},
   "outputs": [
    {
     "data": {
      "text/plain": [
       "list"
      ]
     },
     "execution_count": 24,
     "metadata": {},
     "output_type": "execute_result"
    }
   ],
   "source": [
    "type(l3)"
   ]
  },
  {
   "cell_type": "code",
   "execution_count": 110,
   "id": "a973f4e9-7dc4-4282-9379-a7b0192fa289",
   "metadata": {},
   "outputs": [
    {
     "data": {
      "text/plain": [
       "'Using a while loop, verify if the number A is purely divisible by number B and if so then how many\\ntimes it can be divisible.'"
      ]
     },
     "execution_count": 110,
     "metadata": {},
     "output_type": "execute_result"
    }
   ],
   "source": [
    "\"\"\"Using a while loop, verify if the number A is purely divisible by number B and if so then how many\n",
    "times it can be divisible.\"\"\""
   ]
  },
  {
   "cell_type": "code",
   "execution_count": 21,
   "id": "182d8606-bd77-4d6f-a870-12ebd9a487d7",
   "metadata": {},
   "outputs": [
    {
     "name": "stdout",
     "output_type": "stream",
     "text": [
      "9.0\n"
     ]
    }
   ],
   "source": [
    "a=45\n",
    "b=5\n",
    "c=a/b\n",
    "while(a/b):\n",
    "    print(c)\n",
    "    break\n",
    "    \n",
    "\n"
   ]
  },
  {
   "cell_type": "code",
   "execution_count": 23,
   "id": "c3c1d6a2-c9d6-43bc-8512-cff942858bba",
   "metadata": {},
   "outputs": [
    {
     "name": "stdin",
     "output_type": "stream",
     "text": [
      "Enter the first number 888\n",
      "Enter the second number 3\n"
     ]
    },
    {
     "name": "stdout",
     "output_type": "stream",
     "text": [
      "296.0\n",
      "number is devisible\n"
     ]
    }
   ],
   "source": [
    "a=int(input(\"Enter the first number\")) # we are using integer value\n",
    "b=int(input(\"Enter the second number\"))\n",
    "c=a/b\n",
    "while(a/b):\n",
    "    print(c)\n",
    "    break\n",
    "print(\"number is devisible\")"
   ]
  },
  {
   "cell_type": "code",
   "execution_count": 25,
   "id": "936951d0-f2c0-4ad5-9ce9-1ce6fceec8d8",
   "metadata": {},
   "outputs": [
    {
     "name": "stdin",
     "output_type": "stream",
     "text": [
      "Enter the first number 999\n",
      "Enter the second number 2\n"
     ]
    },
    {
     "name": "stdout",
     "output_type": "stream",
     "text": [
      "499.5\n",
      "number is devisible\n"
     ]
    }
   ],
   "source": [
    "a=float(input(\"Enter the first number\")) # we are using float value\n",
    "b=float(input(\"Enter the second number\"))\n",
    "c=a/b\n",
    "while(a/b):\n",
    "    print(c)\n",
    "    break\n",
    "print(\"number is devisible\")"
   ]
  },
  {
   "cell_type": "code",
   "execution_count": 27,
   "id": "dcfda05d-2e29-4382-91df-6c1fddcb0516",
   "metadata": {},
   "outputs": [
    {
     "data": {
      "text/plain": [
       "'Q6. Create a list containing 25 int type data. Using for loop and if-else condition print if the element is\\ndivisible by 3 or not.'"
      ]
     },
     "execution_count": 27,
     "metadata": {},
     "output_type": "execute_result"
    }
   ],
   "source": [
    "\"\"\"Q6. Create a list containing 25 int type data. Using for loop and if-else condition print if the element is\n",
    "divisible by 3 or not.\"\"\""
   ]
  },
  {
   "cell_type": "code",
   "execution_count": 65,
   "id": "23b10c6b-bdc2-4c3e-9453-2534469f2bd2",
   "metadata": {},
   "outputs": [
    {
     "data": {
      "text/plain": [
       "[1,\n",
       " 2,\n",
       " 3,\n",
       " 4,\n",
       " 5,\n",
       " 6,\n",
       " 7,\n",
       " 8,\n",
       " 9,\n",
       " 10,\n",
       " 11,\n",
       " 12,\n",
       " 13,\n",
       " 14,\n",
       " 15,\n",
       " 16,\n",
       " 17,\n",
       " 18,\n",
       " 19,\n",
       " 20,\n",
       " 21,\n",
       " 22,\n",
       " 23,\n",
       " 24,\n",
       " 25]"
      ]
     },
     "execution_count": 65,
     "metadata": {},
     "output_type": "execute_result"
    }
   ],
   "source": [
    "# ans-6\n",
    "l1=[1,2,3,4,5,6,7,8,9,10,11,12,13,14,15,16,17,18,19,20,21,22,23,24,25]\n",
    "l1"
   ]
  },
  {
   "cell_type": "code",
   "execution_count": 66,
   "id": "77790440-94cb-4065-8e3d-791c332bc784",
   "metadata": {},
   "outputs": [
    {
     "name": "stdout",
     "output_type": "stream",
     "text": [
      "1\n",
      "2\n",
      "3\n",
      "4\n",
      "5\n",
      "6\n",
      "7\n",
      "8\n",
      "9\n",
      "10\n",
      "11\n",
      "12\n",
      "13\n",
      "14\n",
      "15\n",
      "16\n",
      "17\n",
      "18\n",
      "19\n",
      "20\n",
      "21\n",
      "22\n",
      "23\n",
      "24\n",
      "25\n"
     ]
    }
   ],
   "source": [
    "for i in l1:\n",
    "    print(i)\n"
   ]
  },
  {
   "cell_type": "code",
   "execution_count": 67,
   "id": "59ec90be-8450-4f55-ae03-445bc8954606",
   "metadata": {},
   "outputs": [
    {
     "name": "stdout",
     "output_type": "stream",
     "text": [
      "not devisible by 3\n"
     ]
    }
   ],
   "source": [
    "if(i/3)==0:\n",
    "    print(i)       \n",
    "else:\n",
    "     \n",
    "    print(\"not devisible by 3\")\n",
    "       "
   ]
  },
  {
   "cell_type": "code",
   "execution_count": null,
   "id": "d57b3663-5a4f-4402-a7e5-3c6bfd0c7528",
   "metadata": {},
   "outputs": [],
   "source": [
    "\"\"\"Q7. What do you understand about mutable and immutable data types? Give examples for both showing\n",
    "this property.\"\"\""
   ]
  },
  {
   "cell_type": "code",
   "execution_count": 80,
   "id": "223c18e9-6a45-4b4b-8d78-1b783f0f78ab",
   "metadata": {},
   "outputs": [
    {
     "data": {
      "text/plain": [
       "'In mutable we can change the value or we can say we can update the data'"
      ]
     },
     "execution_count": 80,
     "metadata": {},
     "output_type": "execute_result"
    }
   ],
   "source": [
    "# Ans-\n",
    "mutable=\"In mutable we can change the value or we can say we can update the data\"\n",
    "mutable"
   ]
  },
  {
   "cell_type": "code",
   "execution_count": 82,
   "id": "39ed11c3-3774-406c-bdfb-dac91b06cdee",
   "metadata": {},
   "outputs": [
    {
     "data": {
      "text/plain": [
       "'list'"
      ]
     },
     "execution_count": 82,
     "metadata": {},
     "output_type": "execute_result"
    }
   ],
   "source": [
    "example=\"list\"\n",
    "example"
   ]
  },
  {
   "cell_type": "code",
   "execution_count": 86,
   "id": "c1d55605-f461-45fc-bec0-02122bb28a2b",
   "metadata": {},
   "outputs": [
    {
     "data": {
      "text/plain": [
       "[1, 2, 3, 5]"
      ]
     },
     "execution_count": 86,
     "metadata": {},
     "output_type": "execute_result"
    }
   ],
   "source": [
    "a=[1,2,3,4] # now we can update index no. 3\n",
    "a[3]=5\n",
    "a"
   ]
  },
  {
   "cell_type": "code",
   "execution_count": 87,
   "id": "52e8aa4e-8f01-42ed-a6c3-70b0ec1686f3",
   "metadata": {},
   "outputs": [
    {
     "data": {
      "text/plain": [
       "\"IN immutable we can't change the data\""
      ]
     },
     "execution_count": 87,
     "metadata": {},
     "output_type": "execute_result"
    }
   ],
   "source": [
    "Immutable=\"IN immutable we can't change the data\"\n",
    "Immutable"
   ]
  },
  {
   "cell_type": "code",
   "execution_count": 88,
   "id": "77255609-7400-4525-93fc-2c4492d6907b",
   "metadata": {},
   "outputs": [
    {
     "data": {
      "text/plain": [
       "'string'"
      ]
     },
     "execution_count": 88,
     "metadata": {},
     "output_type": "execute_result"
    }
   ],
   "source": [
    "example=\"string\"\n",
    "example"
   ]
  },
  {
   "cell_type": "code",
   "execution_count": 89,
   "id": "3371c967-74d0-4dad-a2cb-b69a24c38efb",
   "metadata": {},
   "outputs": [
    {
     "data": {
      "text/plain": [
       "'a'"
      ]
     },
     "execution_count": 89,
     "metadata": {},
     "output_type": "execute_result"
    }
   ],
   "source": [
    "str=(\"a\",\"b\",\"c\") # now we try to change a in d\n",
    "str[0]"
   ]
  },
  {
   "cell_type": "code",
   "execution_count": 92,
   "id": "e8779af4-b27b-410d-94c3-94e92af833ee",
   "metadata": {},
   "outputs": [
    {
     "ename": "NameError",
     "evalue": "name 'd' is not defined",
     "output_type": "error",
     "traceback": [
      "\u001b[0;31m---------------------------------------------------------------------------\u001b[0m",
      "\u001b[0;31mNameError\u001b[0m                                 Traceback (most recent call last)",
      "Cell \u001b[0;32mIn[92], line 1\u001b[0m\n\u001b[0;32m----> 1\u001b[0m \u001b[38;5;28mstr\u001b[39m[\u001b[38;5;241m0\u001b[39m]\u001b[38;5;241m=\u001b[39m\u001b[43md\u001b[49m\n",
      "\u001b[0;31mNameError\u001b[0m: name 'd' is not defined"
     ]
    }
   ],
   "source": [
    "str[0]=d"
   ]
  },
  {
   "cell_type": "code",
   "execution_count": null,
   "id": "9ed744c2-4f0c-4b6c-af3a-23aa793043d1",
   "metadata": {},
   "outputs": [],
   "source": [
    "# so can't change the a so this is a immutable"
   ]
  }
 ],
 "metadata": {
  "kernelspec": {
   "display_name": "Python 3 (ipykernel)",
   "language": "python",
   "name": "python3"
  },
  "language_info": {
   "codemirror_mode": {
    "name": "ipython",
    "version": 3
   },
   "file_extension": ".py",
   "mimetype": "text/x-python",
   "name": "python",
   "nbconvert_exporter": "python",
   "pygments_lexer": "ipython3",
   "version": "3.10.8"
  }
 },
 "nbformat": 4,
 "nbformat_minor": 5
}
